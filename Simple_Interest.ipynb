{
  "nbformat": 4,
  "nbformat_minor": 0,
  "metadata": {
    "colab": {
      "private_outputs": true,
      "provenance": []
    },
    "kernelspec": {
      "name": "python3",
      "display_name": "Python 3"
    },
    "language_info": {
      "name": "python"
    }
  },
  "cells": [
    {
      "cell_type": "code",
      "execution_count": null,
      "metadata": {
        "id": "X3Bt-fibO3PI"
      },
      "outputs": [],
      "source": [
        "principal_amount =float(input(\"Please Enter the Principal Amount \")) # already converting in to float data type due to sdecimal number\n",
        "time = float(input(\"Please Enter the time \"))\n",
        "rate = float(input(\"Please Enter the Rate \" ))"
      ]
    },
    {
      "cell_type": "code",
      "source": [
        "simple_interest_formula= (principal_amount*time*rate)/100 #the formula to calcualte simple interest"
      ],
      "metadata": {
        "id": "6bV7Z17NgHOM"
      },
      "execution_count": null,
      "outputs": []
    },
    {
      "cell_type": "code",
      "source": [
        "print(\"simple interest is\",simple_interest_formula) #print the simple interest"
      ],
      "metadata": {
        "id": "s5XZR7tCgvpt"
      },
      "execution_count": null,
      "outputs": []
    },
    {
      "cell_type": "code",
      "source": [
        "print(\"total amount is \",principal_amount+ simple_interest_formula) #the total amount is"
      ],
      "metadata": {
        "id": "dmz2SEschJmR"
      },
      "execution_count": null,
      "outputs": []
    }
  ]
}